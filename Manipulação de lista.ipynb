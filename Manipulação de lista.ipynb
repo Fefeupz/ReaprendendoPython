{
 "cells": [
  {
   "cell_type": "code",
   "execution_count": 2,
   "id": "c2d4ff13",
   "metadata": {},
   "outputs": [
    {
     "data": {
      "text/plain": [
       "[0, 1, 4, 9, 16]"
      ]
     },
     "execution_count": 2,
     "metadata": {},
     "output_type": "execute_result"
    }
   ],
   "source": [
    "lista_quadrados = []\n",
    "\n",
    "for i in range (5):\n",
    "    lista_quadrados.append(i**2)\n",
    "\n",
    "lista_quadrados"
   ]
  },
  {
   "cell_type": "code",
   "execution_count": 4,
   "id": "6da6bd35",
   "metadata": {},
   "outputs": [
    {
     "data": {
      "text/plain": [
       "['P', 'Y', 'T', 'H', 'O', 'N']"
      ]
     },
     "execution_count": 4,
     "metadata": {},
     "output_type": "execute_result"
    }
   ],
   "source": [
    "lista_1 = ['P','A','Y','A','T','A','H','O','N']\n",
    "a = lista_1.count('A')\n",
    "\n",
    "for i in enumerate(lista_1):\n",
    "    letra = i[1]\n",
    "    \n",
    "    if letra == 'A':\n",
    "        lista_1.pop(i[0])\n",
    "        \n",
    "lista_1"
   ]
  },
  {
   "cell_type": "code",
   "execution_count": 5,
   "id": "a9efad52",
   "metadata": {},
   "outputs": [
    {
     "data": {
      "text/plain": [
       "[1,\n",
       " 3,\n",
       " 5,\n",
       " 7,\n",
       " 9,\n",
       " 11,\n",
       " 13,\n",
       " 15,\n",
       " 17,\n",
       " 19,\n",
       " 21,\n",
       " 23,\n",
       " 25,\n",
       " 27,\n",
       " 29,\n",
       " 31,\n",
       " 33,\n",
       " 35,\n",
       " 37,\n",
       " 39,\n",
       " 41,\n",
       " 43,\n",
       " 45,\n",
       " 47,\n",
       " 49,\n",
       " 51]"
      ]
     },
     "execution_count": 5,
     "metadata": {},
     "output_type": "execute_result"
    }
   ],
   "source": [
    "lista_impares = [(i*2+1) for i in range(26)]\n",
    "lista_impares"
   ]
  },
  {
   "cell_type": "code",
   "execution_count": 8,
   "id": "0c45dfdd",
   "metadata": {},
   "outputs": [
    {
     "data": {
      "text/plain": [
       "[1,\n",
       " 3,\n",
       " 5,\n",
       " 7,\n",
       " 9,\n",
       " 11,\n",
       " 13,\n",
       " 15,\n",
       " 17,\n",
       " 19,\n",
       " 21,\n",
       " 23,\n",
       " 25,\n",
       " 27,\n",
       " 29,\n",
       " 31,\n",
       " 33,\n",
       " 35,\n",
       " 37,\n",
       " 39,\n",
       " 41,\n",
       " 43,\n",
       " 45,\n",
       " 47,\n",
       " 49,\n",
       " 51]"
      ]
     },
     "execution_count": 8,
     "metadata": {},
     "output_type": "execute_result"
    }
   ],
   "source": [
    "f_x = lambda x: (x*2+1)\n",
    "lista_impares_2 = [f_x(x) for x in range(26)]\n",
    "lista_impares_2"
   ]
  },
  {
   "cell_type": "code",
   "execution_count": 14,
   "id": "5e2d08b2",
   "metadata": {},
   "outputs": [
    {
     "data": {
      "text/plain": [
       "{'a': 1, 'b': 2, 'c': 3, 'd': 4, 'e': 5}"
      ]
     },
     "execution_count": 14,
     "metadata": {},
     "output_type": "execute_result"
    }
   ],
   "source": [
    "valores = [1,2,3,4,5]\n",
    "keys=['a','b','c','d','e']\n",
    "\n",
    "dict_1 = {}\n",
    "\n",
    "for i in range(5):\n",
    "    dict_1[keys[i]] = valores [i]\n",
    "    \n",
    "dict_1"
   ]
  },
  {
   "cell_type": "code",
   "execution_count": 18,
   "id": "481c3e5c",
   "metadata": {},
   "outputs": [
    {
     "name": "stdout",
     "output_type": "stream",
     "text": [
      "[1, 2, 3, 4, 5]\n",
      "['a', 'b', 'c', 'd', 'e']\n"
     ]
    }
   ],
   "source": [
    "dict_3 = {'a': 1, 'b': 2, 'c': 3, 'd': 4, 'e': 5}\n",
    "\n",
    "valores = list(dict_3.values())\n",
    "keys = list(dict_3.keys())\n",
    "print(valores)\n",
    "print(keys)"
   ]
  }
 ],
 "metadata": {
  "kernelspec": {
   "display_name": "Python 3 (ipykernel)",
   "language": "python",
   "name": "python3"
  },
  "language_info": {
   "codemirror_mode": {
    "name": "ipython",
    "version": 3
   },
   "file_extension": ".py",
   "mimetype": "text/x-python",
   "name": "python",
   "nbconvert_exporter": "python",
   "pygments_lexer": "ipython3",
   "version": "3.11.5"
  }
 },
 "nbformat": 4,
 "nbformat_minor": 5
}
